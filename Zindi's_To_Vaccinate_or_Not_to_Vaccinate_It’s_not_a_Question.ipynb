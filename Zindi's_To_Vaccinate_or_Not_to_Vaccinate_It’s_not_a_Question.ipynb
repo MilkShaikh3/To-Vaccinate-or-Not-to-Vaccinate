{
  "nbformat": 4,
  "nbformat_minor": 0,
  "metadata": {
    "colab": {
      "name": "Zindi's To Vaccinate or Not to Vaccinate: It’s not a Question.ipynb",
      "provenance": [],
      "collapsed_sections": [
        "WTgmsjqO8FhY",
        "zZKKB2rr8IQi",
        "440NuLi3_3gQ"
      ]
    },
    "kernelspec": {
      "name": "python3",
      "display_name": "Python 3"
    }
  },
  "cells": [
    {
      "cell_type": "markdown",
      "metadata": {
        "id": "beFAdeUEfx2Y",
        "colab_type": "text"
      },
      "source": [
        "The objective of this challenge is to develop a machine learning model to assess if a Twitter post related to vaccinations is positive, neutral, or negative. This solution could help governments and other public health actors monitor public sentiment towards COVID-19 vaccinations and help improve public health policy, vaccine communication strategies, and vaccination programs across the world."
      ]
    },
    {
      "cell_type": "markdown",
      "metadata": {
        "id": "EwgCS6NqX2SV",
        "colab_type": "text"
      },
      "source": [
        "# Setting up environment \n"
      ]
    },
    {
      "cell_type": "code",
      "metadata": {
        "id": "yoj0L6Pq8BgB",
        "colab_type": "code",
        "colab": {}
      },
      "source": [
        "import random\n",
        "import numpy as np\n",
        "import pandas as pd\n",
        "import matplotlib.pyplot as plt\n",
        "import re\n",
        "from sklearn.model_selection import train_test_split\n",
        "from sklearn.feature_extraction.text import CountVectorizer, TfidfVectorizer\n",
        "from sklearn.metrics import mean_squared_error as mse, r2_score\n",
        "from sklearn.model_selection import KFold, StratifiedKFold\n",
        "from sklearn.linear_model import LogisticRegression\n",
        "from sklearn.naive_bayes import MultinomialNB\n",
        "import warnings\n",
        "\n",
        "warnings.filterwarnings(\"ignore\")"
      ],
      "execution_count": 0,
      "outputs": []
    },
    {
      "cell_type": "code",
      "metadata": {
        "id": "icJHBAS1Niuw",
        "colab_type": "code",
        "colab": {}
      },
      "source": [
        "seed = 3\n",
        "random.seed(seed)\n",
        "np.random.seed(seed)"
      ],
      "execution_count": 0,
      "outputs": []
    },
    {
      "cell_type": "markdown",
      "metadata": {
        "id": "WTgmsjqO8FhY",
        "colab_type": "text"
      },
      "source": [
        "# Reading data"
      ]
    },
    {
      "cell_type": "code",
      "metadata": {
        "id": "PUztnqBh42rR",
        "colab_type": "code",
        "colab": {}
      },
      "source": [
        "train = pd.read_csv(\"Train.csv\")\n",
        "test = pd.read_csv(\"Test.csv\")"
      ],
      "execution_count": 0,
      "outputs": []
    },
    {
      "cell_type": "code",
      "metadata": {
        "id": "KIe5kjnL8Y0W",
        "colab_type": "code",
        "colab": {
          "base_uri": "https://localhost:8080/",
          "height": 0
        },
        "outputId": "d0a11f87-3569-42b1-c720-0de42a2dcd8e"
      },
      "source": [
        "train.head()"
      ],
      "execution_count": 4,
      "outputs": [
        {
          "output_type": "execute_result",
          "data": {
            "text/html": [
              "<div>\n",
              "<style scoped>\n",
              "    .dataframe tbody tr th:only-of-type {\n",
              "        vertical-align: middle;\n",
              "    }\n",
              "\n",
              "    .dataframe tbody tr th {\n",
              "        vertical-align: top;\n",
              "    }\n",
              "\n",
              "    .dataframe thead th {\n",
              "        text-align: right;\n",
              "    }\n",
              "</style>\n",
              "<table border=\"1\" class=\"dataframe\">\n",
              "  <thead>\n",
              "    <tr style=\"text-align: right;\">\n",
              "      <th></th>\n",
              "      <th>tweet_id</th>\n",
              "      <th>safe_text</th>\n",
              "      <th>label</th>\n",
              "      <th>agreement</th>\n",
              "    </tr>\n",
              "  </thead>\n",
              "  <tbody>\n",
              "    <tr>\n",
              "      <th>0</th>\n",
              "      <td>CL1KWCMY</td>\n",
              "      <td>Me &amp;amp; The Big Homie meanboy3000 #MEANBOY #M...</td>\n",
              "      <td>0.0</td>\n",
              "      <td>1.0</td>\n",
              "    </tr>\n",
              "    <tr>\n",
              "      <th>1</th>\n",
              "      <td>E3303EME</td>\n",
              "      <td>I'm 100% thinking of devoting my career to pro...</td>\n",
              "      <td>1.0</td>\n",
              "      <td>1.0</td>\n",
              "    </tr>\n",
              "    <tr>\n",
              "      <th>2</th>\n",
              "      <td>M4IVFSMS</td>\n",
              "      <td>#whatcausesautism VACCINES, DO NOT VACCINATE Y...</td>\n",
              "      <td>-1.0</td>\n",
              "      <td>1.0</td>\n",
              "    </tr>\n",
              "    <tr>\n",
              "      <th>3</th>\n",
              "      <td>1DR6ROZ4</td>\n",
              "      <td>I mean if they immunize my kid with something ...</td>\n",
              "      <td>-1.0</td>\n",
              "      <td>1.0</td>\n",
              "    </tr>\n",
              "    <tr>\n",
              "      <th>4</th>\n",
              "      <td>J77ENIIE</td>\n",
              "      <td>Thanks to &lt;user&gt; Catch me performing at La Nui...</td>\n",
              "      <td>0.0</td>\n",
              "      <td>1.0</td>\n",
              "    </tr>\n",
              "  </tbody>\n",
              "</table>\n",
              "</div>"
            ],
            "text/plain": [
              "   tweet_id  ... agreement\n",
              "0  CL1KWCMY  ...       1.0\n",
              "1  E3303EME  ...       1.0\n",
              "2  M4IVFSMS  ...       1.0\n",
              "3  1DR6ROZ4  ...       1.0\n",
              "4  J77ENIIE  ...       1.0\n",
              "\n",
              "[5 rows x 4 columns]"
            ]
          },
          "metadata": {
            "tags": []
          },
          "execution_count": 4
        }
      ]
    },
    {
      "cell_type": "markdown",
      "metadata": {
        "id": "RknQDjQe-U71",
        "colab_type": "text"
      },
      "source": [
        "We'll need to clean the *safe_text* to remove **hashtags** and **<user>** elements."
      ]
    },
    {
      "cell_type": "markdown",
      "metadata": {
        "id": "zZKKB2rr8IQi",
        "colab_type": "text"
      },
      "source": [
        "# Simple EDA"
      ]
    },
    {
      "cell_type": "markdown",
      "metadata": {
        "id": "XIOeLKCT-wxo",
        "colab_type": "text"
      },
      "source": [
        "We'll begin by doing some simple data exploration, just to get an idea about the dataset."
      ]
    },
    {
      "cell_type": "code",
      "metadata": {
        "id": "l06wjlc68DY1",
        "colab_type": "code",
        "colab": {
          "base_uri": "https://localhost:8080/",
          "height": 0
        },
        "outputId": "75944895-3f51-4ba4-a749-d7d85d06227a"
      },
      "source": [
        "print(train.shape)\n",
        "print(test.shape)"
      ],
      "execution_count": 5,
      "outputs": [
        {
          "output_type": "stream",
          "text": [
            "(10001, 4)\n",
            "(5177, 2)\n"
          ],
          "name": "stdout"
        }
      ]
    },
    {
      "cell_type": "code",
      "metadata": {
        "id": "2UU-rbKj-NeH",
        "colab_type": "code",
        "colab": {
          "base_uri": "https://localhost:8080/",
          "height": 0
        },
        "outputId": "2af5ea25-43e8-47c9-9d3a-ef7dd685c44f"
      },
      "source": [
        "train.describe()"
      ],
      "execution_count": 6,
      "outputs": [
        {
          "output_type": "execute_result",
          "data": {
            "text/html": [
              "<div>\n",
              "<style scoped>\n",
              "    .dataframe tbody tr th:only-of-type {\n",
              "        vertical-align: middle;\n",
              "    }\n",
              "\n",
              "    .dataframe tbody tr th {\n",
              "        vertical-align: top;\n",
              "    }\n",
              "\n",
              "    .dataframe thead th {\n",
              "        text-align: right;\n",
              "    }\n",
              "</style>\n",
              "<table border=\"1\" class=\"dataframe\">\n",
              "  <thead>\n",
              "    <tr style=\"text-align: right;\">\n",
              "      <th></th>\n",
              "      <th>label</th>\n",
              "      <th>agreement</th>\n",
              "    </tr>\n",
              "  </thead>\n",
              "  <tbody>\n",
              "    <tr>\n",
              "      <th>count</th>\n",
              "      <td>10000.000000</td>\n",
              "      <td>9999.000000</td>\n",
              "    </tr>\n",
              "    <tr>\n",
              "      <th>mean</th>\n",
              "      <td>0.301567</td>\n",
              "      <td>0.854252</td>\n",
              "    </tr>\n",
              "    <tr>\n",
              "      <th>std</th>\n",
              "      <td>0.646718</td>\n",
              "      <td>0.180707</td>\n",
              "    </tr>\n",
              "    <tr>\n",
              "      <th>min</th>\n",
              "      <td>-1.000000</td>\n",
              "      <td>0.333333</td>\n",
              "    </tr>\n",
              "    <tr>\n",
              "      <th>25%</th>\n",
              "      <td>0.000000</td>\n",
              "      <td>0.666667</td>\n",
              "    </tr>\n",
              "    <tr>\n",
              "      <th>50%</th>\n",
              "      <td>0.000000</td>\n",
              "      <td>1.000000</td>\n",
              "    </tr>\n",
              "    <tr>\n",
              "      <th>75%</th>\n",
              "      <td>1.000000</td>\n",
              "      <td>1.000000</td>\n",
              "    </tr>\n",
              "    <tr>\n",
              "      <th>max</th>\n",
              "      <td>1.000000</td>\n",
              "      <td>1.000000</td>\n",
              "    </tr>\n",
              "  </tbody>\n",
              "</table>\n",
              "</div>"
            ],
            "text/plain": [
              "              label    agreement\n",
              "count  10000.000000  9999.000000\n",
              "mean       0.301567     0.854252\n",
              "std        0.646718     0.180707\n",
              "min       -1.000000     0.333333\n",
              "25%        0.000000     0.666667\n",
              "50%        0.000000     1.000000\n",
              "75%        1.000000     1.000000\n",
              "max        1.000000     1.000000"
            ]
          },
          "metadata": {
            "tags": []
          },
          "execution_count": 6
        }
      ]
    },
    {
      "cell_type": "markdown",
      "metadata": {
        "id": "O4wM_ROS_Vt_",
        "colab_type": "text"
      },
      "source": [
        "Let's check null rows"
      ]
    },
    {
      "cell_type": "code",
      "metadata": {
        "id": "gnYws_LM_Tgo",
        "colab_type": "code",
        "colab": {
          "base_uri": "https://localhost:8080/",
          "height": 0
        },
        "outputId": "b021ea12-38a6-4098-fd59-60582cd54ecc"
      },
      "source": [
        "train.isna().sum()"
      ],
      "execution_count": 7,
      "outputs": [
        {
          "output_type": "execute_result",
          "data": {
            "text/plain": [
              "tweet_id     0\n",
              "safe_text    0\n",
              "label        1\n",
              "agreement    2\n",
              "dtype: int64"
            ]
          },
          "metadata": {
            "tags": []
          },
          "execution_count": 7
        }
      ]
    },
    {
      "cell_type": "code",
      "metadata": {
        "id": "XC7lrwv8-SMK",
        "colab_type": "code",
        "colab": {
          "base_uri": "https://localhost:8080/",
          "height": 0
        },
        "outputId": "ef81dd81-5e28-46a7-9220-766a0faad939"
      },
      "source": [
        "train[train.isna().any(axis=1)]"
      ],
      "execution_count": 8,
      "outputs": [
        {
          "output_type": "execute_result",
          "data": {
            "text/html": [
              "<div>\n",
              "<style scoped>\n",
              "    .dataframe tbody tr th:only-of-type {\n",
              "        vertical-align: middle;\n",
              "    }\n",
              "\n",
              "    .dataframe tbody tr th {\n",
              "        vertical-align: top;\n",
              "    }\n",
              "\n",
              "    .dataframe thead th {\n",
              "        text-align: right;\n",
              "    }\n",
              "</style>\n",
              "<table border=\"1\" class=\"dataframe\">\n",
              "  <thead>\n",
              "    <tr style=\"text-align: right;\">\n",
              "      <th></th>\n",
              "      <th>tweet_id</th>\n",
              "      <th>safe_text</th>\n",
              "      <th>label</th>\n",
              "      <th>agreement</th>\n",
              "    </tr>\n",
              "  </thead>\n",
              "  <tbody>\n",
              "    <tr>\n",
              "      <th>4798</th>\n",
              "      <td>RQMQ0L2A</td>\n",
              "      <td>#lawandorderSVU</td>\n",
              "      <td>NaN</td>\n",
              "      <td>NaN</td>\n",
              "    </tr>\n",
              "    <tr>\n",
              "      <th>4799</th>\n",
              "      <td>I cannot believe in this day and age some pare...</td>\n",
              "      <td>1</td>\n",
              "      <td>0.666667</td>\n",
              "      <td>NaN</td>\n",
              "    </tr>\n",
              "  </tbody>\n",
              "</table>\n",
              "</div>"
            ],
            "text/plain": [
              "                                               tweet_id  ... agreement\n",
              "4798                                           RQMQ0L2A  ...       NaN\n",
              "4799  I cannot believe in this day and age some pare...  ...       NaN\n",
              "\n",
              "[2 rows x 4 columns]"
            ]
          },
          "metadata": {
            "tags": []
          },
          "execution_count": 8
        }
      ]
    },
    {
      "cell_type": "code",
      "metadata": {
        "id": "q84oHZG4_tKQ",
        "colab_type": "code",
        "colab": {
          "base_uri": "https://localhost:8080/",
          "height": 0
        },
        "outputId": "fa15b923-ca1a-4be3-9df4-37da6faabb94"
      },
      "source": [
        "test.isna().sum()"
      ],
      "execution_count": 9,
      "outputs": [
        {
          "output_type": "execute_result",
          "data": {
            "text/plain": [
              "tweet_id     0\n",
              "safe_text    1\n",
              "dtype: int64"
            ]
          },
          "metadata": {
            "tags": []
          },
          "execution_count": 9
        }
      ]
    },
    {
      "cell_type": "code",
      "metadata": {
        "id": "YFCZnFzL_vZH",
        "colab_type": "code",
        "colab": {
          "base_uri": "https://localhost:8080/",
          "height": 0
        },
        "outputId": "6916ca8d-120d-4555-ece4-eebd30292300"
      },
      "source": [
        "test[test.isna().any(axis=1)]"
      ],
      "execution_count": 10,
      "outputs": [
        {
          "output_type": "execute_result",
          "data": {
            "text/html": [
              "<div>\n",
              "<style scoped>\n",
              "    .dataframe tbody tr th:only-of-type {\n",
              "        vertical-align: middle;\n",
              "    }\n",
              "\n",
              "    .dataframe tbody tr th {\n",
              "        vertical-align: top;\n",
              "    }\n",
              "\n",
              "    .dataframe thead th {\n",
              "        text-align: right;\n",
              "    }\n",
              "</style>\n",
              "<table border=\"1\" class=\"dataframe\">\n",
              "  <thead>\n",
              "    <tr style=\"text-align: right;\">\n",
              "      <th></th>\n",
              "      <th>tweet_id</th>\n",
              "      <th>safe_text</th>\n",
              "    </tr>\n",
              "  </thead>\n",
              "  <tbody>\n",
              "    <tr>\n",
              "      <th>2024</th>\n",
              "      <td>Dr. JAMES SHANNON</td>\n",
              "      <td>NaN</td>\n",
              "    </tr>\n",
              "  </tbody>\n",
              "</table>\n",
              "</div>"
            ],
            "text/plain": [
              "               tweet_id safe_text\n",
              "2024  Dr. JAMES SHANNON       NaN"
            ]
          },
          "metadata": {
            "tags": []
          },
          "execution_count": 10
        }
      ]
    },
    {
      "cell_type": "markdown",
      "metadata": {
        "id": "9M8VzgU8_fjy",
        "colab_type": "text"
      },
      "source": [
        "We'll need to replace/remove those rows!"
      ]
    },
    {
      "cell_type": "code",
      "metadata": {
        "id": "byuRdyrf8R8s",
        "colab_type": "code",
        "colab": {
          "base_uri": "https://localhost:8080/",
          "height": 0
        },
        "outputId": "dc327a48-c185-490c-d024-f55f7a8fc08a"
      },
      "source": [
        "_ = plt.hist(train.label)"
      ],
      "execution_count": 11,
      "outputs": [
        {
          "output_type": "display_data",
          "data": {
            "image/png": "[encoded data removed]",
            "text/plain": [
              "<Figure size 432x288 with 1 Axes>"
            ]
          },
          "metadata": {
            "tags": [],
            "needs_background": "light"
          }
        }
      ]
    },
    {
      "cell_type": "markdown",
      "metadata": {
        "id": "4sJXiK3d_kCF",
        "colab_type": "text"
      },
      "source": [
        "Maybe we'll need to use data augmentation or to specify class weights!"
      ]
    },
    {
      "cell_type": "code",
      "metadata": {
        "id": "Tz1WjuG18jG_",
        "colab_type": "code",
        "colab": {
          "base_uri": "https://localhost:8080/",
          "height": 0
        },
        "outputId": "dc77f861-9fa5-452b-d04c-19f22dd9b73c"
      },
      "source": [
        "train_text_len = [len(row.safe_text) for _, row in train.iterrows()]\n",
        "max_train_len = max(train_text_len)\n",
        "print(max_train_len)\n",
        "_ = plt.hist(train_text_len)"
      ],
      "execution_count": 12,
      "outputs": [
        {
          "output_type": "stream",
          "text": [
            "153\n"
          ],
          "name": "stdout"
        },
        {
          "output_type": "display_data",
          "data": {
            "image/png": "[encoded data removed]",
            "text/plain": [
              "<Figure size 432x288 with 1 Axes>"
            ]
          },
          "metadata": {
            "tags": [],
            "needs_background": "light"
          }
        }
      ]
    },
    {
      "cell_type": "markdown",
      "metadata": {
        "id": "440NuLi3_3gQ",
        "colab_type": "text"
      },
      "source": [
        "# Data preprocessing"
      ]
    },
    {
      "cell_type": "markdown",
      "metadata": {
        "id": "GidaeaKw_6JW",
        "colab_type": "text"
      },
      "source": [
        "Let's start by replacing missing values"
      ]
    },
    {
      "cell_type": "code",
      "metadata": {
        "id": "R1T1OXjy-JFE",
        "colab_type": "code",
        "colab": {}
      },
      "source": [
        "train.agreement[4799],train.label[4799], train.safe_text[4799], = train.label[4799], train.safe_text[4799], train.tweet_id[4799]\n",
        "train.label.loc[4798], train.agreement.loc[4798] = 0, 0\n",
        "\n",
        "test.fillna(\" \", inplace=True)"
      ],
      "execution_count": 0,
      "outputs": []
    },
    {
      "cell_type": "markdown",
      "metadata": {
        "id": "WOvUp9IqAa-n",
        "colab_type": "text"
      },
      "source": [
        "Now we need to clean the *safe_text* feature"
      ]
    },
    {
      "cell_type": "code",
      "metadata": {
        "id": "DeoLSsCDAU5f",
        "colab_type": "code",
        "colab": {}
      },
      "source": [
        "def clean_text(text):\n",
        "    # Remove <user> tags\n",
        "    text = re.sub(r'<.*?>', '', text)\n",
        "\n",
        "    # Replace &amp; with 'and'\n",
        "    text = re.sub(r\"&amp;\", \"and\", text)  \n",
        "    \n",
        "    # Replace punctuation characters with spaces\n",
        "    filters='!\"#$%&()*+,-./:;<=>?@[\\\\]^_`{|}~\\t\\n'\n",
        "    translate_dict = dict((c, \" \") for c in filters)\n",
        "    translate_map = str.maketrans(translate_dict)\n",
        "    text = text.translate(translate_map)\n",
        "\n",
        "    # Convert text to lowercase\n",
        "    text = text.strip().lower()\n",
        "\n",
        "    return text"
      ],
      "execution_count": 0,
      "outputs": []
    },
    {
      "cell_type": "code",
      "metadata": {
        "id": "E0kjNsvTAvy2",
        "colab_type": "code",
        "colab": {}
      },
      "source": [
        "train.safe_text = train.safe_text.map(lambda text: clean_text(text))\n",
        "test.safe_text = test.safe_text.map(lambda text: clean_text(text))"
      ],
      "execution_count": 0,
      "outputs": []
    },
    {
      "cell_type": "code",
      "metadata": {
        "id": "jN5qdMUjBIYs",
        "colab_type": "code",
        "colab": {
          "base_uri": "https://localhost:8080/",
          "height": 0
        },
        "outputId": "73c2aa0e-5a5d-4c05-f0aa-75033a4a320f"
      },
      "source": [
        "train.head()"
      ],
      "execution_count": 16,
      "outputs": [
        {
          "output_type": "execute_result",
          "data": {
            "text/html": [
              "<div>\n",
              "<style scoped>\n",
              "    .dataframe tbody tr th:only-of-type {\n",
              "        vertical-align: middle;\n",
              "    }\n",
              "\n",
              "    .dataframe tbody tr th {\n",
              "        vertical-align: top;\n",
              "    }\n",
              "\n",
              "    .dataframe thead th {\n",
              "        text-align: right;\n",
              "    }\n",
              "</style>\n",
              "<table border=\"1\" class=\"dataframe\">\n",
              "  <thead>\n",
              "    <tr style=\"text-align: right;\">\n",
              "      <th></th>\n",
              "      <th>tweet_id</th>\n",
              "      <th>safe_text</th>\n",
              "      <th>label</th>\n",
              "      <th>agreement</th>\n",
              "    </tr>\n",
              "  </thead>\n",
              "  <tbody>\n",
              "    <tr>\n",
              "      <th>0</th>\n",
              "      <td>CL1KWCMY</td>\n",
              "      <td>me and the big homie meanboy3000  meanboy  mb ...</td>\n",
              "      <td>0.0</td>\n",
              "      <td>1.0</td>\n",
              "    </tr>\n",
              "    <tr>\n",
              "      <th>1</th>\n",
              "      <td>E3303EME</td>\n",
              "      <td>i'm 100  thinking of devoting my career to pro...</td>\n",
              "      <td>1.0</td>\n",
              "      <td>1.0</td>\n",
              "    </tr>\n",
              "    <tr>\n",
              "      <th>2</th>\n",
              "      <td>M4IVFSMS</td>\n",
              "      <td>whatcausesautism vaccines  do not vaccinate yo...</td>\n",
              "      <td>-1.0</td>\n",
              "      <td>1.0</td>\n",
              "    </tr>\n",
              "    <tr>\n",
              "      <th>3</th>\n",
              "      <td>1DR6ROZ4</td>\n",
              "      <td>i mean if they immunize my kid with something ...</td>\n",
              "      <td>-1.0</td>\n",
              "      <td>1.0</td>\n",
              "    </tr>\n",
              "    <tr>\n",
              "      <th>4</th>\n",
              "      <td>J77ENIIE</td>\n",
              "      <td>thanks to  catch me performing at la nuit nyc ...</td>\n",
              "      <td>0.0</td>\n",
              "      <td>1.0</td>\n",
              "    </tr>\n",
              "  </tbody>\n",
              "</table>\n",
              "</div>"
            ],
            "text/plain": [
              "   tweet_id  ... agreement\n",
              "0  CL1KWCMY  ...       1.0\n",
              "1  E3303EME  ...       1.0\n",
              "2  M4IVFSMS  ...       1.0\n",
              "3  1DR6ROZ4  ...       1.0\n",
              "4  J77ENIIE  ...       1.0\n",
              "\n",
              "[5 rows x 4 columns]"
            ]
          },
          "metadata": {
            "tags": []
          },
          "execution_count": 16
        }
      ]
    },
    {
      "cell_type": "markdown",
      "metadata": {
        "id": "WWl1jyaLCJiY",
        "colab_type": "text"
      },
      "source": [
        "# Training"
      ]
    },
    {
      "cell_type": "markdown",
      "metadata": {
        "id": "wAtmxqa7CTVV",
        "colab_type": "text"
      },
      "source": [
        "Spliting train data into training and validation sets"
      ]
    },
    {
      "cell_type": "code",
      "metadata": {
        "id": "KVGW5OViBKeP",
        "colab_type": "code",
        "colab": {}
      },
      "source": [
        "X_train, X_valid, y_train, y_valid = train_test_split(\n",
        "    train.safe_text, train.label, stratify=train.label, random_state=42, test_size=0.2, shuffle=True)"
      ],
      "execution_count": 0,
      "outputs": []
    },
    {
      "cell_type": "markdown",
      "metadata": {
        "colab_type": "text",
        "id": "OeN13vUkeQuV"
      },
      "source": [
        "## TfidfVectorizer + LogisticRegression"
      ]
    },
    {
      "cell_type": "markdown",
      "metadata": {
        "colab_type": "text",
        "id": "-0xvbiVceQuX"
      },
      "source": [
        "We'll be using CountVectorizer to tokenize the *safe_label* feature documents and build a vocabulary of known words. We'll use 3-gram to produce richer word sequences."
      ]
    },
    {
      "cell_type": "code",
      "metadata": {
        "colab_type": "code",
        "id": "P8B2vEJmeQuX",
        "colab": {}
      },
      "source": [
        "# Always start with these features. They work (almost) everytime!\n",
        "tfv = TfidfVectorizer(min_df=3,  max_features=None, \n",
        "            strip_accents='unicode', analyzer='word',token_pattern=r'\\w{1,}',\n",
        "            ngram_range=(1, 3), use_idf=1,smooth_idf=1,sublinear_tf=1,\n",
        "            stop_words = 'english')\n",
        "\n",
        "# Fitting TF-IDF to both training and test sets (semi-supervised learning)\n",
        "tfv.fit(list(X_train) + list(X_valid))\n",
        "X_train_ctv =  tfv.transform(X_train) \n",
        "X_valid_ctv = tfv.transform(X_valid)\n",
        "X_test_ctv = tfv.transform(test.safe_text)"
      ],
      "execution_count": 0,
      "outputs": []
    },
    {
      "cell_type": "markdown",
      "metadata": {
        "colab_type": "text",
        "id": "mxaXh-Q7eQue"
      },
      "source": [
        "Setting up a Stratified KFold.\n",
        "\n",
        "(a nice article about Stratification https://medium.com/@xzz201920/stratifiedkfold-v-s-kfold-v-s-stratifiedshufflesplit-ffcae5bfdf)"
      ]
    },
    {
      "cell_type": "code",
      "metadata": {
        "colab_type": "code",
        "id": "0wo_OJVteQue",
        "colab": {}
      },
      "source": [
        "n_folds = 10\n",
        "fold = StratifiedKFold(n_splits=n_folds, shuffle=True, random_state=seed)\n",
        "total_score = 0\n",
        "test_predictions_probas = []"
      ],
      "execution_count": 0,
      "outputs": []
    },
    {
      "cell_type": "code",
      "metadata": {
        "colab_type": "code",
        "outputId": "2a55ab0b-8d9e-404f-f616-1745a4cca7b0",
        "id": "pybkqSEQeQui",
        "colab": {
          "base_uri": "https://localhost:8080/",
          "height": 0
        }
      },
      "source": [
        "for i, (train_indices,val_indices) in enumerate(fold.split(X_train_ctv, y_train)):\n",
        "    # Building the subsets\n",
        "    sub_X_train,sub_y_train = X_train_ctv[train_indices], np.take(y_train, train_indices, axis=0)\n",
        "    sub_X_val,sub_y_val = X_train_ctv[val_indices], np.take(y_train, val_indices, axis=0)\n",
        "\n",
        "    # Training the model\n",
        "    model = LogisticRegression(C=1, penalty='l2')\n",
        "    model.fit(sub_X_train, sub_y_train)\n",
        "\n",
        "    # Calculation RMSE score on validation set\n",
        "    val_predictions_proba = model.predict_proba(sub_X_val)\n",
        "    # Shifting the probability\n",
        "    val_prediction = [(pred.argmax()-1)*pred[pred.argmax()] \n",
        "                      for pred in val_predictions_proba]\n",
        "    score = np.sqrt(mse(sub_y_val, val_prediction))\n",
        "    print(\"Fold {}: {}\".format(i, score))\n",
        "    total_score += score\n",
        "    \n",
        "    # Predicting probabilities using the current model\n",
        "    test_prediction = model.predict_proba(X_test_ctv)\n",
        "    test_predictions_probas.append(test_prediction)\n",
        "\n",
        "print(\"Average score: {}\".format(total_score/n_folds))"
      ],
      "execution_count": 20,
      "outputs": [
        {
          "output_type": "stream",
          "text": [
            "Fold 0: 0.6151477140865876\n",
            "Fold 1: 0.5863152666094198\n",
            "Fold 2: 0.6093283524514201\n",
            "Fold 3: 0.5801592749613679\n",
            "Fold 4: 0.5859679267453084\n",
            "Fold 5: 0.6061070079603144\n",
            "Fold 6: 0.5801463682779356\n",
            "Fold 7: 0.5891978969220586\n",
            "Fold 8: 0.5699230395427929\n",
            "Fold 9: 0.5728020478730914\n",
            "Average score: 0.5895094895430297\n"
          ],
          "name": "stdout"
        }
      ]
    },
    {
      "cell_type": "markdown",
      "metadata": {
        "colab_type": "text",
        "id": "uB-iemOoe6xW"
      },
      "source": [
        "## TfidfVectorizer + MultinomialNB"
      ]
    },
    {
      "cell_type": "markdown",
      "metadata": {
        "colab_type": "text",
        "id": "qzC_vFUle6xb"
      },
      "source": [
        "Setting up a Stratified KFold.\n",
        "\n",
        "(a nice article about Stratification https://medium.com/@xzz201920/stratifiedkfold-v-s-kfold-v-s-stratifiedshufflesplit-ffcae5bfdf)"
      ]
    },
    {
      "cell_type": "code",
      "metadata": {
        "colab_type": "code",
        "id": "s2Cq-Xt-e6xc",
        "colab": {}
      },
      "source": [
        "n_folds = 10\n",
        "fold = StratifiedKFold(n_splits=n_folds, shuffle=True, random_state=seed)\n",
        "total_score = 0\n",
        "test_predictions_probas = []"
      ],
      "execution_count": 0,
      "outputs": []
    },
    {
      "cell_type": "code",
      "metadata": {
        "colab_type": "code",
        "outputId": "b83ebfd3-9421-4edd-cd88-db4d3503ef27",
        "id": "kWXk0KWie6xg",
        "colab": {
          "base_uri": "https://localhost:8080/",
          "height": 0
        }
      },
      "source": [
        "for i, (train_indices,val_indices) in enumerate(fold.split(X_train_ctv, y_train)):\n",
        "    # Building the subsets\n",
        "    sub_X_train,sub_y_train = X_train_ctv[train_indices], np.take(y_train, train_indices, axis=0)\n",
        "    sub_X_val,sub_y_val = X_train_ctv[val_indices], np.take(y_train, val_indices, axis=0)\n",
        "\n",
        "    # Training the model\n",
        "    model = MultinomialNB()\n",
        "    model.fit(sub_X_train, sub_y_train)\n",
        "\n",
        "    # Calculation RMSE score on validation set\n",
        "    val_predictions_proba = model.predict_proba(sub_X_val)\n",
        "    # Shifting the probability\n",
        "    val_prediction = [(pred.argmax()-1)*pred[pred.argmax()] \n",
        "                      for pred in val_predictions_proba]\n",
        "    score = np.sqrt(mse(sub_y_val, val_prediction))\n",
        "    print(\"Fold {}: {}\".format(i, score))\n",
        "    total_score += score\n",
        "    \n",
        "    # Predicting probabilities using the current model\n",
        "    test_prediction = model.predict_proba(X_test_ctv)\n",
        "    test_predictions_probas.append(test_prediction)\n",
        "\n",
        "print(\"Average score: {}\".format(total_score/n_folds))"
      ],
      "execution_count": 22,
      "outputs": [
        {
          "output_type": "stream",
          "text": [
            "Fold 0: 0.6252855567118889\n",
            "Fold 1: 0.6046131141808099\n",
            "Fold 2: 0.6179936416095242\n",
            "Fold 3: 0.6048798911775579\n",
            "Fold 4: 0.6114428077537346\n",
            "Fold 5: 0.6144795156199503\n",
            "Fold 6: 0.5955535923431698\n",
            "Fold 7: 0.597896469501498\n",
            "Fold 8: 0.5998275296276155\n",
            "Fold 9: 0.6073272816187302\n",
            "Average score: 0.6079299400144479\n"
          ],
          "name": "stdout"
        }
      ]
    },
    {
      "cell_type": "markdown",
      "metadata": {
        "id": "gN1ZRulpeAs8",
        "colab_type": "text"
      },
      "source": [
        "## CountVectorize + LogisticRegression"
      ]
    },
    {
      "cell_type": "markdown",
      "metadata": {
        "id": "t17DIMQBC3we",
        "colab_type": "text"
      },
      "source": [
        "We'll be using CountVectorizer to tokenize the *safe_label* feature documents and build a vocabulary of known words. We'll use 3-gram to produce richer word sequences."
      ]
    },
    {
      "cell_type": "code",
      "metadata": {
        "id": "Zu6T6RhzCe_G",
        "colab_type": "code",
        "colab": {}
      },
      "source": [
        "ctv = CountVectorizer(analyzer='word',token_pattern=r'\\w{1,}',\n",
        "            ngram_range=(1, 3), stop_words = 'english')\n",
        "\n",
        "# Fitting Count Vectorizer to both training and test sets (semi-supervised learning)\n",
        "ctv.fit(list(X_train) + list(X_valid))\n",
        "X_train_ctv =  ctv.transform(X_train) \n",
        "X_valid_ctv = ctv.transform(X_valid)\n",
        "X_test_ctv = ctv.transform(test.safe_text)"
      ],
      "execution_count": 0,
      "outputs": []
    },
    {
      "cell_type": "markdown",
      "metadata": {
        "id": "heKgj3kUNvZ9",
        "colab_type": "text"
      },
      "source": [
        "Setting up a Stratified KFold.\n",
        "\n",
        "(a nice article about Stratification https://medium.com/@xzz201920/stratifiedkfold-v-s-kfold-v-s-stratifiedshufflesplit-ffcae5bfdf)"
      ]
    },
    {
      "cell_type": "code",
      "metadata": {
        "id": "CvFS0xezNuqM",
        "colab_type": "code",
        "colab": {}
      },
      "source": [
        "n_folds = 10\n",
        "fold = StratifiedKFold(n_splits=n_folds, shuffle=True, random_state=seed)\n",
        "total_score = 0\n",
        "test_predictions_probas = []"
      ],
      "execution_count": 0,
      "outputs": []
    },
    {
      "cell_type": "code",
      "metadata": {
        "id": "dCaagKPCDfuF",
        "colab_type": "code",
        "colab": {
          "base_uri": "https://localhost:8080/",
          "height": 202
        },
        "outputId": "803b205b-7968-41ab-9cf6-24a2100cfbe1"
      },
      "source": [
        "for i, (train_indices,val_indices) in enumerate(fold.split(X_train_ctv, y_train)):\n",
        "    # Building the subsets\n",
        "    sub_X_train,sub_y_train = X_train_ctv[train_indices], np.take(y_train, train_indices, axis=0)\n",
        "    sub_X_val,sub_y_val = X_train_ctv[val_indices], np.take(y_train, val_indices, axis=0)\n",
        "\n",
        "    # Training the model\n",
        "    model = LogisticRegression(C=1, penalty='l2')\n",
        "    model.fit(sub_X_train, sub_y_train)\n",
        "\n",
        "    # Calculation RMSE score on validation set\n",
        "    val_predictions_proba = model.predict_proba(sub_X_val)\n",
        "    # Shifting the probability\n",
        "    val_prediction = [(pred.argmax()-1)*pred[pred.argmax()] \n",
        "                      for pred in val_predictions_proba]\n",
        "    score = np.sqrt(mse(sub_y_val, val_prediction))\n",
        "    print(\"Fold {}: {}\".format(i, score))\n",
        "    total_score += score\n",
        "    \n",
        "    # Predicting probabilities using the current model\n",
        "    test_prediction = model.predict_proba(X_test_ctv)\n",
        "    test_predictions_probas.append(test_prediction)\n",
        "\n",
        "print(\"Average score: {}\".format(total_score/n_folds))"
      ],
      "execution_count": 25,
      "outputs": [
        {
          "output_type": "stream",
          "text": [
            "Fold 0: 0.647525951470175\n",
            "Fold 1: 0.5948758422411301\n",
            "Fold 2: 0.6058983006406948\n",
            "Fold 3: 0.5709592588434641\n",
            "Fold 4: 0.5887080271915054\n",
            "Fold 5: 0.6229951478882324\n",
            "Fold 6: 0.6109321521966157\n",
            "Fold 7: 0.5914233920244131\n",
            "Fold 8: 0.576120978238763\n",
            "Fold 9: 0.5779065929246101\n",
            "Average score: 0.5987345643659604\n"
          ],
          "name": "stdout"
        }
      ]
    },
    {
      "cell_type": "markdown",
      "metadata": {
        "id": "J7Dt-WkmSqlg",
        "colab_type": "text"
      },
      "source": [
        "# Submission"
      ]
    },
    {
      "cell_type": "code",
      "metadata": {
        "id": "yhShwXmfSj_p",
        "colab_type": "code",
        "colab": {}
      },
      "source": [
        "test_prediction_proba = np.mean(test_predictions_probas, axis=0)\n",
        "# Converting the probability into its corresponding class\n",
        "test_prediction = [(pred.argmax()-1)*pred[pred.argmax()] \n",
        "                  for pred in test_prediction_proba]"
      ],
      "execution_count": 0,
      "outputs": []
    },
    {
      "cell_type": "code",
      "metadata": {
        "id": "gZg264AKXdo4",
        "colab_type": "code",
        "colab": {}
      },
      "source": [
        "submission = pd.DataFrame({\"tweet_id\":test.tweet_id, \"label\":test_prediction})\n",
        "submission.to_csv(\"submission.csv\", index=False)"
      ],
      "execution_count": 0,
      "outputs": []
    }
  ]
}